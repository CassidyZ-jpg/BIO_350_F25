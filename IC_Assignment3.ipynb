{
 "cells": [
  {
   "cell_type": "code",
   "execution_count": 19,
   "id": "d0545641",
   "metadata": {},
   "outputs": [],
   "source": [
    "import matplotlib.pyplot as plt\n"
   ]
  },
  {
   "cell_type": "code",
   "execution_count": 33,
   "id": "89ab922b",
   "metadata": {},
   "outputs": [],
   "source": [
    "#logistic growth function\n",
    "def logistic_growth(t, P0, r, K):\n",
    "    return K / (1 + ((K - P0) / P0) * (2.71828 ** (-r * t)))\n",
    "t= 8 # time in years\n",
    "P0 = 12  # initial population\n",
    "r = 0.6  # growth rate\n",
    "K = 400  # carrying capacity\n"
   ]
  },
  {
   "cell_type": "code",
   "execution_count": 34,
   "id": "efc5a8ba",
   "metadata": {},
   "outputs": [
    {
     "name": "stdout",
     "output_type": "stream",
     "text": [
      "315.932\n"
     ]
    }
   ],
   "source": [
    "#Run the function with 8 years, K=400, r=0.6 with an initial population of 12\n",
    "result = logistic_growth(t, P0, r, K)\n",
    "#set decimal places to 3\n",
    "result = round(result, 3)\n",
    "print(result)\n",
    "#Display the results of the logistic growth equation"
   ]
  },
  {
   "cell_type": "code",
   "execution_count": null,
   "id": "13244c7f",
   "metadata": {},
   "outputs": [],
   "source": []
  }
 ],
 "metadata": {
  "kernelspec": {
   "display_name": "IC_Assignments",
   "language": "python",
   "name": "python3"
  },
  "language_info": {
   "codemirror_mode": {
    "name": "ipython",
    "version": 3
   },
   "file_extension": ".py",
   "mimetype": "text/x-python",
   "name": "python",
   "nbconvert_exporter": "python",
   "pygments_lexer": "ipython3",
   "version": "3.13.5"
  }
 },
 "nbformat": 4,
 "nbformat_minor": 5
}
